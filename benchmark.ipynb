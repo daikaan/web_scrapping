{
 "cells": [
  {
   "cell_type": "code",
   "execution_count": 3,
   "metadata": {},
   "outputs": [],
   "source": [
    "# pip install beautifulsoup4\n",
    "# pip install selenium"
   ]
  },
  {
   "cell_type": "markdown",
   "metadata": {},
   "source": [
    "This project is part of the final projects in Miuul course about webscrapping with Beautiful Soup and Selenium (https://learning.miuul.com/courses/take/web-scraping/texts/51630603-kurs-hakkinda). The goal of the project is to help an imaginary bookshop (A) by analyzing the rival bookshop that allows scrapping on their website. Bookshop A is having a difficult time selling non-fiction and travelling books. In order to help them, we need to check the pricing of the corresponding genres of bookshop B. The details can be found in Turkish inside the Instructions file."
   ]
  },
  {
   "cell_type": "code",
   "execution_count": 4,
   "metadata": {},
   "outputs": [],
   "source": [
    "from bs4 import BeautifulSoup\n",
    "from selenium import webdriver"
   ]
  },
  {
   "cell_type": "code",
   "execution_count": 5,
   "metadata": {},
   "outputs": [],
   "source": [
    "options = webdriver.ChromeOptions()\n",
    "options.add_argument(\"--start-maximized\")"
   ]
  },
  {
   "cell_type": "code",
   "execution_count": 7,
   "metadata": {},
   "outputs": [],
   "source": [
    "#acitvating the driver using options\n",
    "driver = webdriver.Chrome(options)"
   ]
  },
  {
   "cell_type": "markdown",
   "metadata": {},
   "source": [
    "TASK 2: Open, Analyze and Scrap the main page using driver"
   ]
  },
  {
   "cell_type": "code",
   "execution_count": 8,
   "metadata": {},
   "outputs": [],
   "source": [
    "import time\n",
    "SLEEP_TIME = 2\n",
    "driver.get(\"https://books.toscrape.com/\")\n",
    "time.sleep(SLEEP_TIME)"
   ]
  },
  {
   "cell_type": "code",
   "execution_count": 9,
   "metadata": {},
   "outputs": [],
   "source": [
    "cat_elements = \"//a[contains(text(), 'Travel') or contains(text(), 'Nonfiction')]\""
   ]
  },
  {
   "cell_type": "code",
   "execution_count": 10,
   "metadata": {},
   "outputs": [],
   "source": [
    "from selenium.webdriver.common.by import By\n",
    "category_elements = driver.find_elements(By.XPATH, cat_elements)"
   ]
  },
  {
   "cell_type": "code",
   "execution_count": 11,
   "metadata": {},
   "outputs": [
    {
     "name": "stdout",
     "output_type": "stream",
     "text": [
      "['https://books.toscrape.com/catalogue/category/books/travel_2/index.html', 'https://books.toscrape.com/catalogue/category/books/nonfiction_13/index.html']\n"
     ]
    }
   ],
   "source": [
    "cat_urls = [element.get_attribute(\"href\") for element in category_elements]\n",
    "print(cat_urls)"
   ]
  },
  {
   "cell_type": "markdown",
   "metadata": {},
   "source": [
    "TASK 3: Scrapping the Genre Pages"
   ]
  },
  {
   "cell_type": "code",
   "execution_count": 12,
   "metadata": {},
   "outputs": [],
   "source": [
    "driver.get(cat_urls[0])\n",
    "time.sleep(SLEEP_TIME)"
   ]
  },
  {
   "cell_type": "code",
   "execution_count": 13,
   "metadata": {},
   "outputs": [
    {
     "name": "stdout",
     "output_type": "stream",
     "text": [
      "['https://books.toscrape.com/catalogue/its-only-the-himalayas_981/index.html', 'https://books.toscrape.com/catalogue/full-moon-over-noahs-ark-an-odyssey-to-mount-ararat-and-beyond_811/index.html', 'https://books.toscrape.com/catalogue/see-america-a-celebration-of-our-national-parks-treasured-sites_732/index.html', 'https://books.toscrape.com/catalogue/vagabonding-an-uncommon-guide-to-the-art-of-long-term-world-travel_552/index.html', 'https://books.toscrape.com/catalogue/under-the-tuscan-sun_504/index.html', 'https://books.toscrape.com/catalogue/a-summer-in-europe_458/index.html', 'https://books.toscrape.com/catalogue/the-great-railway-bazaar_446/index.html', 'https://books.toscrape.com/catalogue/a-year-in-provence-provence-1_421/index.html', 'https://books.toscrape.com/catalogue/the-road-to-little-dribbling-adventures-of-an-american-in-britain-notes-from-a-small-island-2_277/index.html', 'https://books.toscrape.com/catalogue/neither-here-nor-there-travels-in-europe_198/index.html', 'https://books.toscrape.com/catalogue/1000-places-to-see-before-you-die_1/index.html']\n",
      "11\n"
     ]
    }
   ],
   "source": [
    "book_elements_XPATH = \"//div[@class= 'image_container']//a\"\n",
    "book_elements = driver.find_elements(By.XPATH, book_elements_XPATH)\n",
    "book_urls = [element.get_attribute(\"href\") for element in book_elements]\n",
    "print(book_urls)\n",
    "print(len(book_urls))"
   ]
  },
  {
   "cell_type": "markdown",
   "metadata": {},
   "source": [
    "As explained in the instructions pdf in addition to the control we made, the website does not use the same format of urls for single page categories (index.html) and multiple page categories (page x. html). \n",
    "Because of that we need to differentiate pagination."
   ]
  },
  {
   "cell_type": "code",
   "execution_count": 16,
   "metadata": {},
   "outputs": [
    {
     "name": "stdout",
     "output_type": "stream",
     "text": [
      "['https://books.toscrape.com/catalogue/worlds-elsewhere-journeys-around-shakespeares-globe_972/index.html', 'https://books.toscrape.com/catalogue/the-five-love-languages-how-to-express-heartfelt-commitment-to-your-mate_969/index.html', 'https://books.toscrape.com/catalogue/reasons-to-stay-alive_959/index.html', 'https://books.toscrape.com/catalogue/higherselfie-wake-up-your-life-free-your-soul-find-your-tribe_957/index.html', 'https://books.toscrape.com/catalogue/unseen-city-the-majesty-of-pigeons-the-discreet-charm-of-snails-other-wonders-of-the-urban-wilderness_952/index.html', 'https://books.toscrape.com/catalogue/throwing-rocks-at-the-google-bus-how-growth-became-the-enemy-of-prosperity_948/index.html', 'https://books.toscrape.com/catalogue/the-life-changing-magic-of-tidying-up-the-japanese-art-of-decluttering-and-organizing_936/index.html', 'https://books.toscrape.com/catalogue/the-gutsy-girl-escapades-for-your-life-of-epic-adventure_934/index.html', 'https://books.toscrape.com/catalogue/the-electric-pencil-drawings-from-inside-state-hospital-no-3_933/index.html', 'https://books.toscrape.com/catalogue/spark-joy-an-illustrated-master-class-on-the-art-of-organizing-and-tidying-up_927/index.html', 'https://books.toscrape.com/catalogue/reskilling-america-learning-to-labor-in-the-twenty-first-century_922/index.html', 'https://books.toscrape.com/catalogue/in-the-country-we-love-my-family-divided_901/index.html', 'https://books.toscrape.com/catalogue/everydata-the-misinformation-hidden-in-the-little-data-you-consume-every-day_891/index.html', 'https://books.toscrape.com/catalogue/call-the-nurse-true-stories-of-a-country-nurse-on-a-scottish-isle_885/index.html', 'https://books.toscrape.com/catalogue/algorithms-to-live-by-the-computer-science-of-human-decisions_880/index.html', 'https://books.toscrape.com/catalogue/the-power-of-now-a-guide-to-spiritual-enlightenment_855/index.html', 'https://books.toscrape.com/catalogue/the-omnivores-dilemma-a-natural-history-of-four-meals_854/index.html', 'https://books.toscrape.com/catalogue/the-genius-of-birds_843/index.html', 'https://books.toscrape.com/catalogue/the-artists-way-a-spiritual-path-to-higher-creativity_839/index.html', 'https://books.toscrape.com/catalogue/so-youve-been-publicly-shamed_832/index.html', 'https://books.toscrape.com/catalogue/daring-greatly-how-the-courage-to-be-vulnerable-transforms-the-way-we-live-love-parent-and-lead_799/index.html', 'https://books.toscrape.com/catalogue/big-magic-creative-living-beyond-fear_796/index.html', 'https://books.toscrape.com/catalogue/becoming-wise-an-inquiry-into-the-mystery-and-art-of-living_795/index.html', 'https://books.toscrape.com/catalogue/agnostic-a-spirited-manifesto_786/index.html', 'https://books.toscrape.com/catalogue/whole-lotta-creativity-going-on-60-fun-and-unusual-exercises-to-awaken-and-strengthen-your-creativity_780/index.html', 'https://books.toscrape.com/catalogue/whats-it-like-in-space-stories-from-astronauts-whove-been-there_779/index.html', 'https://books.toscrape.com/catalogue/the-year-of-magical-thinking_770/index.html', 'https://books.toscrape.com/catalogue/the-literature-book-big-ideas-simply-explained_755/index.html', 'https://books.toscrape.com/catalogue/the-bad-ass-librarians-of-timbuktu-and-their-race-to-save-the-worlds-most-precious-manuscripts_745/index.html', 'https://books.toscrape.com/catalogue/swell-a-year-of-waves_740/index.html', 'https://books.toscrape.com/catalogue/no-dream-is-too-high-life-lessons-from-a-man-who-walked-on-the-moon_722/index.html', 'https://books.toscrape.com/catalogue/looking-for-lovely-collecting-the-moments-that-matter_710/index.html', 'https://books.toscrape.com/catalogue/let-it-out-a-journey-through-journaling_708/index.html', 'https://books.toscrape.com/catalogue/hamilton-the-revolution_699/index.html', 'https://books.toscrape.com/catalogue/far-away-places-on-the-brink-of-change-seven-continents-twenty-five-years_694/index.html', 'https://books.toscrape.com/catalogue/eaternity-more-than-150-deliciously-easy-vegan-recipes-for-a-long-healthy-satisfied-joyful-life_689/index.html', 'https://books.toscrape.com/catalogue/buying-in-the-secret-dialogue-between-what-we-buy-and-who-we-are_670/index.html', 'https://books.toscrape.com/catalogue/brain-on-fire-my-month-of-madness_669/index.html', 'https://books.toscrape.com/catalogue/abstract-city_658/index.html', 'https://books.toscrape.com/catalogue/13-hours-the-inside-account-of-what-really-happened-in-benghazi_645/index.html']\n",
      "40\n"
     ]
    }
   ],
   "source": [
    "MAX_PAGINATION = 3\n",
    "url = cat_urls[1]\n",
    "book_urls =[]\n",
    "for i in range(1,MAX_PAGINATION):\n",
    "    update_url = url if i == 1 else url.replace(\"index\",  f\"page-{i}\")\n",
    "    driver.get(update_url)\n",
    "    book_elements = driver.find_elements(By.XPATH, book_elements_XPATH)\n",
    "\n",
    "    if not book_elements:\n",
    "        break\n",
    "\n",
    "    temp_urls = [element.get_attribute(\"href\") for element in book_elements]\n",
    "    book_urls.extend(temp_urls)\n",
    "\n",
    "print(book_urls)\n",
    "print(len(book_urls))"
   ]
  },
  {
   "cell_type": "markdown",
   "metadata": {},
   "source": [
    "TASK 4: Book Detail Page Scrapping"
   ]
  },
  {
   "cell_type": "code",
   "execution_count": 17,
   "metadata": {},
   "outputs": [],
   "source": [
    "driver.get(book_urls[0])\n",
    "time.sleep(SLEEP_TIME)\n",
    "content_div = driver.find_elements(By.XPATH, \"//div[@class = 'content']\")\n",
    "\n",
    "inner_html = content_div[0].get_attribute(\"innerHTML\")\n",
    "soup = BeautifulSoup(inner_html, \"html.parser\")\n"
   ]
  },
  {
   "cell_type": "code",
   "execution_count": 19,
   "metadata": {},
   "outputs": [],
   "source": [
    "# Book name\n",
    "name_elem = soup.find(\"h1\")\n",
    "book_name = name_elem.text\n",
    "\n",
    "\n",
    "# Book price\n",
    "price_elem = soup.find(\"p\", attrs={\"class\":\"price_color\"})\n",
    "book_price = price_elem.text\n",
    "\n",
    "# Book star rating\n",
    "import re\n",
    "regex = re.compile('^star-rating ')\n",
    "star_elem = soup.find(\"p\", attrs={\"class\": regex})\n",
    "book_star_count = star_elem[\"class\"][-1]\n",
    "\n",
    "#Book Description\n",
    "desc_elem = soup.find(\"div\", attrs= {\"id\": \"product_description\"}).find_next_sibling()\n",
    "book_desc = desc_elem.text\n",
    "\n",
    "# Table information under product information\n",
    "product_info = {}\n",
    "table_rows = soup.find(\"table\").find_all(\"tr\")\n",
    "for row in table_rows:\n",
    "    key = row.find(\"th\").text\n",
    "    value = row.find(\"td\").text\n",
    "    product_info[key] = value\n",
    "\n",
    "\n",
    "\n"
   ]
  },
  {
   "cell_type": "code",
   "execution_count": 20,
   "metadata": {},
   "outputs": [
    {
     "data": {
      "text/plain": [
       "'Anti-apartheid activist, Bollywood screenwriter, Nazi pin-up, hero of the Wild West: this is Shakespeare as you have never seen him before.From the sixteenth-century Baltic to the American Revolution, from colonial India to the skyscrapers of modern-day Shanghai, Shakespeare’s plays appear at the most fascinating of times and in the most unexpected of places. No other writ Anti-apartheid activist, Bollywood screenwriter, Nazi pin-up, hero of the Wild West: this is Shakespeare as you have never seen him before.From the sixteenth-century Baltic to the American Revolution, from colonial India to the skyscrapers of modern-day Shanghai, Shakespeare’s plays appear at the most fascinating of times and in the most unexpected of places. No other writer’s work has been performed, translated, adapted and altered in such a remarkable variety of cultures and languages. But what is it about William Shakespeare – a man from Warwickshire who never once set foot outside England – that has made him at home in so many places around the globe?Travelling across four continents, six countries and 400 years, Andrew Dickson takes us on a personal journey rich in insight and surprise. We enter the air-conditioned vault deep beneath Capitol Hill where the world’s largest collection of First Folios is stored; discover the shadowy history of Joseph Goebbels’s obsession with Shakespeare; and uncover the true story behind the scuffed edition in which Nelson Mandela and fellow Robben Island prisoners inscribed their names. Both cultural history and literary travelogue, Worlds Elsewhere is an attempt to understand how Shakespeare has become the international phenomenon he is – and why.\"There were very few pages on which I didn’t learn something new or revelatory. A must-read for anyone interested in Shakespeare’s impact on people and politics around the globe\" (James Shapiro, author of 1599: A Year in the Life of William Shakespeare)\"Immensely well-informed and highly readable. A revelatory journey of cultural exploration\" (Professor Stanley Wells, General Editor of the Oxford and Penguin Shakespeares)\"Brilliantly original. Absolutely engaging, witty and irresistible. What’s most remarkable: he’s said something new about Shakespeare\" (Michael Pye, author of The Edge of the World)\"A truly original book about Shakespeare: one that explores the dramatist\\'s global reach with tenacity, devotion and an exhilarating spirit of adventure\" (Michael Billington) ...more'"
      ]
     },
     "execution_count": 20,
     "metadata": {},
     "output_type": "execute_result"
    }
   ],
   "source": [
    "book_desc"
   ]
  }
 ],
 "metadata": {
  "kernelspec": {
   "display_name": "base",
   "language": "python",
   "name": "python3"
  },
  "language_info": {
   "codemirror_mode": {
    "name": "ipython",
    "version": 3
   },
   "file_extension": ".py",
   "mimetype": "text/x-python",
   "name": "python",
   "nbconvert_exporter": "python",
   "pygments_lexer": "ipython3",
   "version": "3.10.9"
  }
 },
 "nbformat": 4,
 "nbformat_minor": 2
}
